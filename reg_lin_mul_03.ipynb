{
  "cells": [
    {
      "cell_type": "markdown",
      "metadata": {
        "id": "2YLA97aCU5Rc"
      },
      "source": [
        "# Ejercicio de programación Regresión Lineal Multiple"
      ]
    },
    {
      "cell_type": "markdown",
      "source": [],
      "metadata": {
        "id": "Oicq3QR2YUyg"
      }
    },
    {
      "cell_type": "code",
      "execution_count": 38,
      "metadata": {
        "id": "6oSyaxltU5Rn"
      },
      "outputs": [],
      "source": [
        "#El data set no posee suficientes caracteristicas para ser resuelto\n",
        "#lo que dificulta hacer una prediccion para y ya que las cararcteristcas que \n",
        "#posee no sirven para predecir nada dentro del data set \n",
        "# \n",
        "#utilizado para manejos de directorios y rutas\n",
        "import os\n",
        "\n",
        "# Computacion vectorial y cientifica para python\n",
        "import numpy as np\n",
        "import pandas as pd\n",
        "\n",
        "# Librerias para graficación (trazado de gráficos)\n",
        "from matplotlib import pyplot\n",
        "from mpl_toolkits.mplot3d import Axes3D  # Necesario para graficar superficies 3D\n",
        "\n",
        "# llama a matplotlib a embeber graficas dentro de los cuadernillos\n",
        "%matplotlib inline"
      ]
    },
    {
      "cell_type": "markdown",
      "metadata": {
        "id": "9QZJ00eiU5Rs"
      },
      "source": [
        "## 2 Regresión lineal con multiples variables\n",
        "\n",
        "Se implementa la regresion lineal multivariable para predecir el precio de las casas. El archivo `Datasets/ex1data2.txt` contiene un conjunto de entrenamiento de precios de casas en Portland, Oregon. La primera columna es el tamaño de la casa en metros cuadrados, la segunda columna es el numero de cuartos, y la tercera columna es el precio de la casa. \n",
        "\n",
        "<a id=\"section4\"></a>\n",
        "### 2.1 Normalización de caracteristicas\n",
        "\n",
        "Al visualizar los datos se puede observar que las caracteristicas tienen diferentes magnitudes, por lo cual se debe transformar cada valor en una escala de valores similares, esto con el fin de que el descenso por el gradiente pueda converger mas rapidamente."
      ]
    },
    {
      "cell_type": "code",
      "execution_count": null,
      "metadata": {
        "id": "H3hbWwBfU5Rv"
      },
      "outputs": [],
      "source": [
        "# Cargar datos\n",
        "data = np.loadtxt(os.path.join('df_2.csv'), delimiter=',', skiprows=1)\n",
        "X = data[:,1:3]\n",
        "y = data[:, 3]\n",
        "m = y.size\n",
        "\n",
        "# imprimir algunos puntos de datos\n",
        "# print('{:>8s}{:>8s}{:>10s}'.format('X[:,0]', 'X[:, 1]', 'y'))\n",
        "# print('-'*26)\n",
        "# for i in range(10):\n",
        "#     print('{:8.0f}{:8.0f}{:10.0f}'.format(X[i, 0], X[i, 1], y[i]))"
      ]
    },
    {
      "cell_type": "code",
      "source": [
        "def CambioDatos(x,y):\n",
        " \n",
        "\n",
        "  for i in range(m):\n",
        "    for j in range(3):\n",
        "      if x[i,j]== \"PlayStation 2\":\n",
        "        x[i,j]= 1\n",
        "      if x[i,j]== \"Game Boy Color\":\n",
        "        x[i,j]= 2\n",
        "      if x[i,j]== \"Microsoft Windows\":\n",
        "        x[i,j]= 3\n",
        "      if x[i,j]== \"Nintendo DS\":\n",
        "        x[i,j]= 4\n",
        "      if x[i,j]== \"Wii\":\n",
        "        x[i,j]= 5\n",
        "      if x[i,j]== \"PlayStation\":\n",
        "        x[i,j]= 6\n",
        "      if x[i,j]== \"DOS\":\n",
        "        x[i,j]= 7\n",
        "      if x[i,j]== \"Amiga\":\n",
        "        x[i,j]= 8\n",
        "      if x[i,j]== \"Mac OS\":\n",
        "        x[i,j]= 9\n",
        "      if x[i,j]== \"Amstrad CPC\":\n",
        "        x[i,j]= 10\n",
        "      if x[i,j]== \"Atari ST\":\n",
        "        x[i,j]= 11\n",
        "      if x[i,j]== \"Game Boy Advance\":\n",
        "        x[i,j]= 12\n",
        "      if x[i,j]== \"PC Booter\":\n",
        "        x[i,j]= 13\n",
        "      if x[i,j]== \"Linux\":\n",
        "        x[i,j]= 14\n",
        "      if x[i,j]== \"PlayStation Portable\":\n",
        "        x[i,j]= 15\n",
        "      if x[i,j]== \"C 64\":\n",
        "        x[i,j]= 16\n",
        "\n",
        "\n",
        "\n",
        "      if x[i,j]== \"February de 1987\":\n",
        "        x[i,j]= 1\n",
        "      if x[i,j]== \"1988\":\n",
        "        x[i,j]= 2\n",
        "      if x[i,j]== \"1989\":\n",
        "        x[i,j]= 3\n",
        "      if x[i,j]== \"1990\":\n",
        "        x[i,j]= 4\n",
        "      if x[i,j]== \"1991\":\n",
        "        x[i,j]= 5\n",
        "      if x[i,j]== \"1994\":\n",
        "        x[i,j]= 6\n",
        "      if x[i,j]== \"1995\":\n",
        "        x[i,j]= 7\n",
        "      if x[i,j]== \"December 1995\":\n",
        "        x[i,j]= 8\n",
        "      if x[i,j]== \"December 31, 1996\":\n",
        "        x[i,j]= 9\n",
        "      if x[i,j]== \"1996\":\n",
        "        x[i,j]= 10\n",
        "      if x[i,j]== \"1997\":\n",
        "        x[i,j]= 11\n",
        "      if x[i,j]== \"November 1998\":\n",
        "        x[i,j]= 12\n",
        "      if x[i,j]== \"1998\":\n",
        "        x[i,j]= 13\n",
        "      if x[i,j]== \"January 1, 1999\":\n",
        "        x[i,j]= 14\n",
        "      if x[i,j]== \"June 1999\":\n",
        "        x[i,j]= 15\n",
        "      if x[i,j]== \"April 20, 2000\":\n",
        "        x[i,j]= 16\n",
        "      if x[i,j]== \"July 28, 2000\":\n",
        "        x[i,j]= 17\n",
        "      if x[i,j]== \"September 14, 2000\":\n",
        "        x[i,j]= 18\n",
        "      if x[i,j]== \"November 15, 2000\":\n",
        "        x[i,j]= 19\n",
        "      if x[i,j]== \"November 16, 2000\":\n",
        "        x[i,j]= 20\n",
        "      if x[i,j]== \"December 22, 2000\":\n",
        "        x[i,j]= 21\n",
        "      if x[i,j]== \"2000\":\n",
        "        x[i,j]= 22\n",
        "      if x[i,j]== \"2001\":\n",
        "        x[i,j]= 23\n",
        "      if x[i,j]== \"June 18, 2001\":\n",
        "        x[i,j]= 24\n",
        "      if x[i,j]== \"December 10, 2001\":\n",
        "        x[i,j]= 25\n",
        "      if x[i,j]== \"January 31, 2002\":\n",
        "        x[i,j]= 26\n",
        "      if x[i,j]== \"November 21, 2002\":\n",
        "        x[i,j]= 27\n",
        "      if x[i,j]== \"2002\":\n",
        "        x[i,j]= 28\n",
        "      if x[i,j]== \"February 19, 2004\":\n",
        "        x[i,j]= 29\n",
        "      if x[i,j]== \"August 26, 2004\":\n",
        "        x[i,j]= 30\n",
        "      if x[i,j]== \"May 2005\":\n",
        "        x[i,j]= 31\n",
        "      if x[i,j]== \"September 30, 2005\":\n",
        "        x[i,j]= 32\n",
        "      if x[i,j]== \"2005\":\n",
        "        x[i,j]= 33\n",
        "      if x[i,j]== \"February 21, 2006\":\n",
        "        x[i,j]= 34\n",
        "      if x[i,j]== \"May 18, 2006\":\n",
        "        x[i,j]= 35\n",
        "      if x[i,j]== \"December 7, 2006\":\n",
        "        x[i,j]= 36\n",
        "      if x[i,j]== \"December 21, 2006\":\n",
        "        x[i,j]= 37\n",
        "      if x[i,j]== \"March 22, 2007\":\n",
        "        x[i,j]= 38\n",
        "      if x[i,j]== \"April 26, 2007\":\n",
        "        x[i,j]= 39\n",
        "      if x[i,j]== \"September 5, 2007\":\n",
        "        x[i,j]= 40\n",
        "      if x[i,j]== \"November 14, 2007\":\n",
        "        x[i,j]= 41\n",
        "      if x[i,j]== \"June 26, 2008\":\n",
        "        x[i,j]= 42\n",
        "      if x[i,j]== \"August 22, 2008\":\n",
        "        x[i,j]= 43\n",
        "      if x[i,j]== \"August 7, 2009\":\n",
        "        x[i,j]= 44\n",
        "      if x[i,j]== \"\tNovember 27, 2009\":\n",
        "        x[i,j]= 45\n",
        "      if x[i,j]== \"February 4, 2010\":\n",
        "        x[i,j]= 46\n",
        "      if x[i,j]== \"March 9, 2010\":\n",
        "        x[i,j]= 47\n",
        "      if x[i,j]== \"March 26, 2010\":\n",
        "        x[i,j]= 48\n",
        "      if x[i,j]== \"October 22, 2010\":\n",
        "        x[i,j]= 49\n",
        "\n",
        "\n",
        "\n",
        "      if x[i,j]== \"Durell Software\":\n",
        "        x[i,j]= 1\n",
        "      if x[i,j]== \"Cinemaware\":\n",
        "        x[i,j]= 1\n",
        "      if x[i,j]== \"Orou Mama, Ivan Jacot\":\n",
        "        x[i,j]= 1\n",
        "      if x[i,j]== \"Opera Soft\":\n",
        "        x[i,j]= 1\n",
        "      if x[i,j]== \"Interplay Entertainment\":\n",
        "        x[i,j]= 1\n",
        "      if x[i,j]== \"Lucasfilm Games\":\n",
        "        x[i,j]= 1\n",
        "      if x[i,j]== \"ReadySoft Incorporated\":\n",
        "        x[i,j]= 1\n",
        "      if x[i,j]== \"Teque Software Development\":\n",
        "        x[i,j]= 1\n",
        "      if x[i,j]== \"Blue Byte\":\n",
        "        x[i,j]= 2\n",
        "      if x[i,j]== \"Ordilogic Systems\":\n",
        "        x[i,j]= 1\n",
        "      if x[i,j]== \"Electronic Arts\":\n",
        "        x[i,j]= 1\n",
        "      if x[i,j]== \"White Wolf Productions\":\n",
        "        x[i,j]= 1\n",
        "      if x[i,j]== \"Quintet\":\n",
        "        x[i,j]= 1\n",
        "      if x[i,j]== \"Bethesda Softworks\":\n",
        "        x[i,j]= 2\n",
        "      if x[i,j]== \"Blizzard Entertainment\":\n",
        "        x[i,j]= 2\n",
        "      if x[i,j]== \"DreamForge Intertainment\":\n",
        "        x[i,j]= 1\n",
        "      if x[i,j]== \"Looking Glass Technologies\":\n",
        "        x[i,j]= 1\n",
        "      if x[i,j]== \"ELOI Productions\":\n",
        "        x[i,j]= 2\n",
        "      if x[i,j]== \"Cunning Developments\":\n",
        "        x[i,j]= 1\n",
        "      if x[i,j]== \"Lucasfilm\":\n",
        "        x[i,j]= 1\n",
        "      if x[i,j]== \"Blizzard North\":\n",
        "        x[i,j]= 1\n",
        "      if x[i,j]== \"Electric Demons\":\n",
        "        x[i,j]= 1\n",
        "      if x[i,j]== \"Magnetic Fields\":\n",
        "        x[i,j]= 1\n",
        "      if x[i,j]== \"Human Code\":\n",
        "        x[i,j]= 1\n",
        "      if x[i,j]== \"Catware\":\n",
        "        x[i,j]= 2\n",
        "      if x[i,j]== \"TopWare Interactive\":\n",
        "        x[i,j]= 1\n",
        "      if x[i,j]== \"TalonSoft\":\n",
        "        x[i,j]= 2\n",
        "      if x[i,j]== \"Cyan Productions\":\n",
        "        x[i,j]= 1\n",
        "      if x[i,j]== \"Enlight Software5\":\n",
        "        x[i,j]= 1\n",
        "      if x[i,j]== \"Criterion Games\":\n",
        "        x[i,j]= 1\n",
        "      if x[i,j]== \"LucasArts\":\n",
        "        x[i,j]= 2\n",
        "      if x[i,j]== \"Corel Corporation, KLA Visual Productions\":\n",
        "        x[i,j]= 1\n",
        "      if x[i,j]== \"Ascaron Entertainment\":\n",
        "        x[i,j]= 2\n",
        "      if x[i,j]== \"MicroProse\":\n",
        "        x[i,j]= 3\n",
        "      if x[i,j]== \"Silmarils\":\n",
        "        x[i,j]= 2\n",
        "      if x[i,j]== \"New World Computing\":\n",
        "        x[i,j]= 1\n",
        "      if x[i,j]== \"NovaLogic\":\n",
        "        x[i,j]= 2\n",
        "      if x[i,j]== \"Meyer Glass Interactive\":\n",
        "        x[i,j]= 1\n",
        "      if x[i,j]== \"Nival Entertainment\":\n",
        "        x[i,j]= 1\n",
        "      if x[i,j]== \"MicroProse\":\n",
        "        x[i,j]= 3\n",
        "      if x[i,j]== \"GameFX Technology\":\n",
        "        x[i,j]= 1\n",
        "      if x[i,j]== \"Cyberlore Studios\":\n",
        "        x[i,j]= 1\n",
        "      if x[i,j]== \"Transmission Games\":\n",
        "        x[i,j]= 2\n",
        "      if x[i,j]== \"Rayland Interactive\":\n",
        "        x[i,j]= 1\n",
        "      if x[i,j]== \"Cauldron\":\n",
        "        x[i,j]= 1\n",
        "      if x[i,j]== \"Dinamic Multimedia\":\n",
        "        x[i,j]= 1\n",
        "      if x[i,j]== \"Silmarils\":\n",
        "        x[i,j]= 2\n",
        "      if x[i,j]== \"Act Studio\":\n",
        "        x[i,j]= 1\n",
        "      if x[i,j]== \"Ultimation\":\n",
        "        x[i,j]= 1\n",
        "      if x[i,j]== \"Warthog\":\n",
        "        x[i,j]= 1\n",
        "      if x[i,j]== \"Natsume\":\n",
        "        x[i,j]= 2\n",
        "      if x[i,j]== \"NovaLogic\":\n",
        "        x[i,j]= 2\n",
        "      if x[i,j]== \"Tri-Ace\":\n",
        "        x[i,j]= 1\n",
        "      if x[i,j]== \"Three Rings Design\":\n",
        "        x[i,j]= 3\n",
        "      if x[i,j]== \"Rebellion Developments\":\n",
        "        x[i,j]= 2\n",
        "      if x[i,j]== \"Atlus\":\n",
        "        x[i,j]= 1\n",
        "      if x[i,j]== \"Capcom\":\n",
        "        x[i,j]= 1\n",
        "      if x[i,j]== \"Ascaron Entertainment\":\n",
        "        x[i,j]= 2\n",
        "      if x[i,j]== \"4J Studios\":\n",
        "        x[i,j]= 1\n",
        "      if x[i,j]== \"Quicksilver Software\":\n",
        "        x[i,j]= 1\n",
        "      if x[i,j]== \"Virtuos\":\n",
        "        x[i,j]= 1\n",
        "      if x[i,j]== \"Yuke's\":\n",
        "        x[i,j]= 2\n",
        "      if x[i,j]== \"Team Ninja\":\n",
        "        x[i,j]= 1\n",
        "      if x[i,j]== \"Project Soul\":\n",
        "        x[i,j]= 1\n",
        "      if x[i,j]== \"Asylum Entertainment\":\n",
        "        x[i,j]= 5\n",
        "      if x[i,j]== \"Square Enix\":\n",
        "        x[i,j]= 1\n",
        "   \n",
        "\n",
        "CambioDatos(X,y)\n",
        "X=np.array(X).astype(float)"
      ],
      "metadata": {
        "id": "-8oNH991vh4F"
      },
      "execution_count": null,
      "outputs": []
    },
    {
      "cell_type": "code",
      "source": [],
      "metadata": {
        "id": "aobCbzZr6fFJ"
      },
      "execution_count": null,
      "outputs": []
    },
    {
      "cell_type": "markdown",
      "metadata": {
        "id": "HVDe0i8LU5Rw"
      },
      "source": [
        "La desviación estándar es una forma de medir cuánta variación hay en el rango de valores de una característica en particular (la mayoría de los puntos caeran en un rango de ± 2 en relación a la desviaciones estándar de la media); esta es una alternativa a tomar el rango de valores (max-min). En `numpy`, se puede usar la función `std` para calcular la desviacion estandar. \n",
        "\n",
        "Por ejemplo, la caracteristica`X[:, 0]` contiene todos los valores de $x_1$ (tamaño de las casas) en el conjunto de entrenamiento, entonces `np.std(X[:, 0])` calcula la desviacion estandar de los tamaños de las casas.\n",
        "En el momento en que se llama a la función `featureNormalize`, la columna adicional de unos correspondiente a $ x_0 = 1 $ aún no se ha agregado a $ X $. \n",
        "\n",
        "<div class=\"alert alert-block alert-warning\">\n",
        "**Notas para la implementación:** Cuando se normalize una caracteristica, es importante almacenar los valores usados para la normalización - el valor de la media y el valor de la desviación estandar usado para los calculos. Despues de aprender los parametros del modelo, se deseara predecir los precios de casas que no se han visto antes. Dado un nuevo valor de x (area del living room y el numero de dormitorios), primero se debe normalizar x usando la media y la desviacion estandar que se empleo anteriormente en el conjunto de entrenamiento para entrenar el modelo.\n",
        "</div>\n",
        "<a id=\"featureNormalize\"></a>"
      ]
    },
    {
      "cell_type": "code",
      "execution_count": null,
      "metadata": {
        "id": "i5GI5GBnU5Ry"
      },
      "outputs": [],
      "source": [
        "def  featureNormalize(X):\n",
        "    X_norm = X.copy()\n",
        "    mu = np.zeros(X.shape[1])\n",
        "    sigma = np.zeros(X.shape[1])\n",
        "\n",
        "    mu = np.mean(X, axis = 0)\n",
        "    sigma = np.std(X, axis = 0)\n",
        "    X_norm = (X - mu) / sigma\n",
        "    \n",
        "    return X_norm, mu, sigma"
      ]
    },
    {
      "cell_type": "code",
      "execution_count": null,
      "metadata": {
        "id": "jkrNe3UiU5R0"
      },
      "outputs": [],
      "source": [
        "# llama featureNormalize con los datos cargados\n",
        "X_norm, mu, sigma = featureNormalize(X)\n",
        "\n",
        "print(X)\n",
        "print('Media calculada:', mu)\n",
        "print('Desviación estandar calculada:', sigma)\n",
        "print(X_norm)"
      ]
    },
    {
      "cell_type": "markdown",
      "metadata": {
        "id": "qCJU01nYU5R3"
      },
      "source": [
        "Despues de `featureNormalize` la funcion es provada, se añade el temino de interseccion a `X_norm`:"
      ]
    },
    {
      "cell_type": "code",
      "execution_count": null,
      "metadata": {
        "id": "wkxLVyvIU5R5"
      },
      "outputs": [],
      "source": [
        "# Añade el termino de interseccion a X\n",
        "# (Columna de unos para X0)\n",
        "X = np.concatenate([np.ones((m, 1)), X_norm], axis=1)"
      ]
    },
    {
      "cell_type": "code",
      "execution_count": null,
      "metadata": {
        "colab": {
          "base_uri": "https://localhost:8080/"
        },
        "id": "knlU4ckFU5R6",
        "outputId": "24889978-453a-4167-e911-09ca8cb442b0"
      },
      "outputs": [
        {
          "output_type": "stream",
          "name": "stdout",
          "text": [
            "[[ 1.          1.09706398 -2.07333501  1.26993369  0.9843749   1.56846633]\n",
            " [ 1.          1.82982061 -0.35363241  1.68595471  1.90870825 -0.82696245]\n",
            " [ 1.          1.57988811  0.45618695  1.56650313  1.55888363  0.94221044]\n",
            " ...\n",
            " [ 1.          0.70228425  2.0455738   0.67267578  0.57795264 -0.84048388]\n",
            " [ 1.          1.83834103  2.33645719  1.98252415  1.73521799  1.52576706]\n",
            " [ 1.         -1.80840125  1.22179204 -1.81438851 -1.34778924 -3.11208479]]\n"
          ]
        }
      ],
      "source": [
        "print(X)"
      ]
    },
    {
      "cell_type": "markdown",
      "metadata": {
        "id": "Uzc3WCcpU5R9"
      },
      "source": [
        "<a id=\"section5\"></a>\n",
        "### 2.2 Descenso por el gradiente\n",
        "\n",
        "En el ejemplo anterior se implemento el descenso por el gradiente para un problema de regresion univariable. La unica diferencia es que ahora existe una caracteristica adicional en la matriz $X$. La función de hipótesis y la regla de actualización del descenso del gradiente por lotes permanecen sin cambios.\n",
        "\n",
        "La implementacion de las funciones `computeCostMulti` y `gradientDescentMulti` son similares a la funcion de costo y función de descenso por el gradiente de la regresión lineal multiple es similar al de la regresion lineal multivariable. Es importante garantizar que el codigo soporte cualquier numero de caracteristicas y esten bien vectorizadas.\n",
        "\n",
        "Se puede utilizar `shape`, propiedad de los arrays `numpy`, para identificar cuantas caracteristicas estan consideradas en el dataset.\n",
        "\n",
        "<div class=\"alert alert-block alert-warning\">\n",
        "**Nota de implementación:** En el caso de multivariables, la función de costo puede se escrita considerando la forma vectorizada de la siguiente manera:\n",
        "\n",
        "$$ J(\\theta) = \\frac{1}{2m}(X\\theta - \\vec{y})^T(X\\theta - \\vec{y}) $$\n",
        "\n",
        "donde:\n",
        "\n",
        "$$ X = \\begin{pmatrix}\n",
        "          - (x^{(1)})^T - \\\\\n",
        "          - (x^{(2)})^T - \\\\\n",
        "          \\vdots \\\\\n",
        "          - (x^{(m)})^T - \\\\ \\\\\n",
        "        \\end{pmatrix} \\qquad \\mathbf{y} = \\begin{bmatrix} y^{(1)} \\\\ y^{(2)} \\\\ \\vdots \\\\ y^{(m)} \\\\\\end{bmatrix}$$\n",
        "\n",
        "La version vectorizada es eficiente cuando se trabaja con herramientas de calculo numericos computacional como `numpy`. \n",
        "</div>\n",
        "\n",
        "<a id=\"computeCostMulti\"></a>"
      ]
    },
    {
      "cell_type": "code",
      "execution_count": null,
      "metadata": {
        "id": "SwPtxKxMU5R_"
      },
      "outputs": [],
      "source": [
        "def computeCostMulti(X, y, theta):\n",
        "    # Inicializa algunos valores utiles\n",
        "    m = y.shape[0] # numero de ejemplos de entrenamiento\n",
        "    \n",
        "    J = 0\n",
        "    \n",
        "    h = np.dot(X, theta)\n",
        "    \n",
        "    J = (1/(2 * m)) * np.sum(np.square(np.dot(X, theta) - y))\n",
        "    \n",
        "    return J\n"
      ]
    },
    {
      "cell_type": "code",
      "execution_count": null,
      "metadata": {
        "id": "Oh88_x2IU5SA"
      },
      "outputs": [],
      "source": [
        "def gradientDescentMulti(X, y, theta, alpha, num_iters):\n",
        "    \n",
        "    # Inicializa algunos valores \n",
        "    m = y.shape[0] # numero de ejemplos de entrenamiento\n",
        "    \n",
        "    # realiza una copia de theta, el cual será acutalizada por el descenso por el gradiente\n",
        "    theta = theta.copy()\n",
        "    \n",
        "    J_history = []\n",
        "    \n",
        "    for i in range(num_iters):\n",
        "        theta = theta - (alpha / m) * (np.dot(X, theta) - y).dot(X)\n",
        "        J_history.append(computeCostMulti(X, y, theta))\n",
        "    \n",
        "    return theta, J_history"
      ]
    },
    {
      "cell_type": "markdown",
      "metadata": {
        "id": "IO-n2o-5U5SB"
      },
      "source": [
        "#### 3.2.1 Seleccionando coheficientes de aprendizaje\n"
      ]
    },
    {
      "cell_type": "code",
      "execution_count": null,
      "metadata": {
        "colab": {
          "base_uri": "https://localhost:8080/",
          "height": 334
        },
        "id": "uECVFHZBU5SC",
        "outputId": "2947f2a4-19b2-43be-e474-18f43c840fd6"
      },
      "outputs": [
        {
          "output_type": "stream",
          "name": "stdout",
          "text": [
            "theta calculado por el descenso por el gradiente: [ 0.60880105 -0.10765586 -0.10282591 -0.11602421 -0.0755898  -0.11636924]\n",
            "0.2996152600757286\n"
          ]
        },
        {
          "output_type": "display_data",
          "data": {
            "text/plain": [
              "<Figure size 432x288 with 1 Axes>"
            ],
            "image/png": "[encoded data removed]"
          },
          "metadata": {
            "needs_background": "light"
          }
        }
      ],
      "source": [
        "# Elegir algun valor para alpha (probar varias alternativas)\n",
        "alpha = 0.01\n",
        "num_iters = 350\n",
        "\n",
        "# inicializa theta y ejecuta el descenso por el gradiente\n",
        "theta = np.zeros(6)\n",
        "theta, J_history = gradientDescentMulti(X, y, theta, alpha, num_iters)\n",
        "\n",
        "# Grafica la convergencia del costo\n",
        "pyplot.plot(np.arange(len(J_history)), J_history, lw=2)\n",
        "pyplot.xlabel('Numero de iteraciones')\n",
        "pyplot.ylabel('Costo J')\n",
        "\n",
        "# Muestra los resultados del descenso por el gradiente\n",
        "print('theta calculado por el descenso por el gradiente: {:s}'.format(str(theta)))\n",
        "\n",
        "# Estimar el precio para una casa de 1650 sq-ft, con 3 dormitorios\n",
        "X_array = [1, 17.99,10.38,122.8,1001.0,0.1184]\n",
        "X_array[1:3] = (X_array[1:3] - mu) / sigma\n",
        "mortalidad = np.dot(X_array, theta)   # Se debe cambiar esto\n",
        "\n",
        "print(mortalidad)\n"
      ]
    },
    {
      "cell_type": "code",
      "execution_count": null,
      "metadata": {
        "id": "R_UeEVgAU5SE"
      },
      "outputs": [],
      "source": [
        "X_array = [1, 17.99,10.38,122.8,1001.0,0.1184]\n",
        "\n",
        "X_array[1:3] = (X_array[1:3] - mu) / sigma"
      ]
    },
    {
      "cell_type": "code",
      "execution_count": null,
      "metadata": {
        "colab": {
          "base_uri": "https://localhost:8080/"
        },
        "id": "IK1HsdWfU5SF",
        "outputId": "169d6b36-0c54-462b-c3ed-3b37947785ff"
      },
      "outputs": [
        {
          "output_type": "execute_result",
          "data": {
            "text/plain": [
              "[1.0970639814699807,\n",
              " -2.0733350146975935,\n",
              " 1.2699336881399383,\n",
              " 0.9843749048031144,\n",
              " 1.568466329243428]"
            ]
          },
          "metadata": {},
          "execution_count": 53
        }
      ],
      "source": [
        "X_array[1:3]"
      ]
    },
    {
      "cell_type": "markdown",
      "metadata": {
        "id": "8wOaHQKvU5SG"
      },
      "source": [
        "<a id=\"section7\"></a>\n",
        "### 2.3 Ecuacion de la Normal\n",
        "\n",
        "Una manera de calcular rapidamente el modelo de una regresion lineal es:\n",
        "\n",
        "$$ \\theta = \\left( X^T X\\right)^{-1} X^T\\vec{y}$$\n",
        "\n",
        "Utilizando esta formula no requiere que se escale ninguna caracteristica, y se obtendra una solucion exacta con un solo calculo: no hay “bucles de convergencia” como en el descenso por el gradiente. \n",
        "\n",
        "Primero se recargan los datos para garantizar que las variables no esten modificadas. Recordar que no es necesario escalar las caracteristicas, se debe agregar la columna de unos a la matriz $X$ para tener el termino de intersección($\\theta_0$). "
      ]
    },
    {
      "cell_type": "code",
      "execution_count": null,
      "metadata": {
        "id": "vnMZXKQ1U5SH"
      },
      "outputs": [],
      "source": [
        "# Cargar datos\n",
        "data = np.loadtxt(os.path.join('Datasets.csv'), delimiter=',', skiprows=1)\n",
        "\n",
        "X = data[:, :3]\n",
        "y = data[:, 3]\n",
        "m = y.size\n",
        "X = np.concatenate([np.ones((m, 1)), X], axis=1)"
      ]
    },
    {
      "cell_type": "code",
      "execution_count": null,
      "metadata": {
        "id": "su3jNoXIU5SI"
      },
      "outputs": [],
      "source": [
        "def normalEqn(X, y):\n",
        "  \n",
        "    theta = np.zeros(X.shape[1])\n",
        "    \n",
        "    theta = np.dot(np.dot(np.linalg.inv(np.dot(X.T,X)),X.T),y)\n",
        "    \n",
        "    return theta"
      ]
    },
    {
      "cell_type": "code",
      "execution_count": null,
      "metadata": {
        "colab": {
          "base_uri": "https://localhost:8080/"
        },
        "id": "yv-dMMknU5SJ",
        "outputId": "e256be3e-8d28-4c6d-a471-23a525b6ced6"
      },
      "outputs": [
        {
          "output_type": "stream",
          "name": "stdout",
          "text": [
            "Theta calculado a partir de la ecuación de la normal: [ 3.49311494e+00  1.31106080e-02 -2.35992195e-02 -2.66567113e-02\n",
            "  8.55529530e-04 -7.30985983e+00]\n",
            "0.20146838445505144\n"
          ]
        }
      ],
      "source": [
        "# Calcula los parametros con la ecuación de la normal\n",
        "theta = normalEqn(X, y);\n",
        "\n",
        "# Muestra los resultados optenidos a partir de la aplicación de la ecuación de la normal\n",
        "print('Theta calculado a partir de la ecuación de la normal: {:s}'.format(str(theta)));\n",
        "\n",
        "# Estimar el precio para una casa de superficie de 1650 sq-ft y tres dormitorios\n",
        "\n",
        "X_array = [1, 17.99,10.38,122.8,1001.0,0.1184]\n",
        "\n",
        "mortalidad = np.dot(X_array, theta)\n",
        "\n",
        "print(mortalidad)"
      ]
    }
  ],
  "metadata": {
    "kernelspec": {
      "display_name": "Python 3.9.12 ('base')",
      "language": "python",
      "name": "python3"
    },
    "language_info": {
      "codemirror_mode": {
        "name": "ipython",
        "version": 3
      },
      "file_extension": ".py",
      "mimetype": "text/x-python",
      "name": "python",
      "nbconvert_exporter": "python",
      "pygments_lexer": "ipython3",
      "version": "3.9.12"
    },
    "vscode": {
      "interpreter": {
        "hash": "5f1de7d2f8b2ea13c275b55a1a168baa6b4c6d64260a02c6ee9ee64f3ff538fa"
      }
    },
    "colab": {
      "provenance": []
    }
  },
  "nbformat": 4,
  "nbformat_minor": 0
}